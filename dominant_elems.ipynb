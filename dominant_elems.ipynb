{
 "cells": [
  {
   "cell_type": "code",
   "execution_count": 1,
   "metadata": {
    "collapsed": false
   },
   "outputs": [
    {
     "name": "stdout",
     "output_type": "stream",
     "text": [
      "Populating the interactive namespace from numpy and matplotlib\n"
     ]
    }
   ],
   "source": [
    "%pylab inline"
   ]
  },
  {
   "cell_type": "code",
   "execution_count": 2,
   "metadata": {
    "collapsed": true
   },
   "outputs": [],
   "source": [
    "import random as rd"
   ]
  },
  {
   "cell_type": "markdown",
   "metadata": {},
   "source": [
    "Для начала напишем функцию поиска 1 доминирующего элемента в потоке (встречается > n / 2 раз). В случае, если условие не выполняется, функция может вернуть любой элемент"
   ]
  },
  {
   "cell_type": "code",
   "execution_count": 3,
   "metadata": {
    "collapsed": true
   },
   "outputs": [],
   "source": [
    "def dominant_simple(gen):\n",
    "    iter_gen = iter(gen)\n",
    "    dominant = next(iter_gen)\n",
    "    dominant_count = 1\n",
    "    for item in iter_gen:\n",
    "        if dominant_count == 0:\n",
    "            dominant = item\n",
    "            dominant_count = 1\n",
    "        elif dominant == item:\n",
    "            dominant_count += 1\n",
    "        else:\n",
    "            dominant_count -= 1\n",
    "    return dominant"
   ]
  },
  {
   "cell_type": "markdown",
   "metadata": {},
   "source": [
    "Протестируем:"
   ]
  },
  {
   "cell_type": "code",
   "execution_count": 4,
   "metadata": {
    "collapsed": false
   },
   "outputs": [
    {
     "data": {
      "text/plain": [
       "1"
      ]
     },
     "execution_count": 4,
     "metadata": {},
     "output_type": "execute_result"
    }
   ],
   "source": [
    "dominant_simple([10, 1, 10, 1, 2, 3, 4, 1, 1 ,1, 5, 1, 1, 1, 5])"
   ]
  },
  {
   "cell_type": "code",
   "execution_count": 12,
   "metadata": {
    "collapsed": false
   },
   "outputs": [
    {
     "data": {
      "text/plain": [
       "10"
      ]
     },
     "execution_count": 12,
     "metadata": {},
     "output_type": "execute_result"
    }
   ],
   "source": [
    "dominant_simple([10, 2, 10, 5, 2, 3, 4, 1, 1 ,1, 5, 10, 1, 5, 10]) # тут можем получить и неверный ответ"
   ]
  },
  {
   "cell_type": "markdown",
   "metadata": {},
   "source": [
    "Теперь тест в большем масштабе - определим генератор с гарантированно преобладающим элементом"
   ]
  },
  {
   "cell_type": "code",
   "execution_count": 6,
   "metadata": {
    "collapsed": true
   },
   "outputs": [],
   "source": [
    "def gen_gen(N):\n",
    "    i = 0\n",
    "    for v in range(N):\n",
    "        yield rd.randint(1, 10) if i % 2 == 0 else 1\n",
    "        i += 1\n",
    "    yield 1"
   ]
  },
  {
   "cell_type": "code",
   "execution_count": 7,
   "metadata": {
    "collapsed": false
   },
   "outputs": [
    {
     "data": {
      "text/plain": [
       "1"
      ]
     },
     "execution_count": 7,
     "metadata": {},
     "output_type": "execute_result"
    }
   ],
   "source": [
    "dominant_simple(gen_gen(2**20))"
   ]
  },
  {
   "cell_type": "markdown",
   "metadata": {},
   "source": [
    "Теперь реализуем алгоритм поиска элементов, встречающихся более n / k раз"
   ]
  },
  {
   "cell_type": "code",
   "execution_count": 92,
   "metadata": {
    "collapsed": false
   },
   "outputs": [],
   "source": [
    "def dominant_k(gen, k):\n",
    "    dominants = {}\n",
    "    iter_gen = iter(gen)\n",
    "    for _ in iter_gen:\n",
    "        if _ in dominants:\n",
    "            dominants[_] += 1\n",
    "        elif len(dominants) < k - 1:\n",
    "            dominants[_] = 1\n",
    "        else:\n",
    "            lst = list(dominants.keys())\n",
    "            for key in lst:\n",
    "                dominants[key] -= 1\n",
    "                if dominants[key] == 0:\n",
    "                    del dominants[key]\n",
    "    return dominants.keys()"
   ]
  },
  {
   "cell_type": "markdown",
   "metadata": {},
   "source": [
    "Тестируем:"
   ]
  },
  {
   "cell_type": "code",
   "execution_count": 100,
   "metadata": {
    "collapsed": false
   },
   "outputs": [
    {
     "data": {
      "text/plain": [
       "dict_keys([2, 3])"
      ]
     },
     "execution_count": 100,
     "metadata": {},
     "output_type": "execute_result"
    }
   ],
   "source": [
    "dominant_k([3, 1, 3, 2, 2, 1, 2, 3, 3, 2], 3)"
   ]
  },
  {
   "cell_type": "markdown",
   "metadata": {},
   "source": [
    "Алгоритм возвращает k - 1 значение, встречавшееся в потоке > n / k раз. Если таких значений было < n / k - вернёт что угодно (но в списке всегда присутсвуют значения встретившиеся > n / k раз)"
   ]
  },
  {
   "cell_type": "code",
   "execution_count": 102,
   "metadata": {
    "collapsed": false
   },
   "outputs": [
    {
     "data": {
      "text/plain": [
       "dict_keys([])"
      ]
     },
     "execution_count": 102,
     "metadata": {},
     "output_type": "execute_result"
    }
   ],
   "source": [
    "dominant_k([1, 2, 1, 2, 1, 3, 2, 1, 3, 1], 2) # пример, в котором нет доминируещего элемента"
   ]
  },
  {
   "cell_type": "code",
   "execution_count": 113,
   "metadata": {
    "collapsed": true
   },
   "outputs": [],
   "source": [
    "def gen_gen1(N): # поток, как минимум на 1/3 состоящий из 1, и на 1/3 из 2\n",
    "    i = 0\n",
    "    for v in range(N):\n",
    "        if i % 3 == 0:\n",
    "            yield 1\n",
    "        elif i % 3 == 1:\n",
    "            yield 2\n",
    "        else:\n",
    "            yield rd.randint(1, 10)\n",
    "        i += 1"
   ]
  },
  {
   "cell_type": "code",
   "execution_count": 112,
   "metadata": {
    "collapsed": false
   },
   "outputs": [
    {
     "data": {
      "text/plain": [
       "dict_keys([1, 2])"
      ]
     },
     "execution_count": 112,
     "metadata": {},
     "output_type": "execute_result"
    }
   ],
   "source": [
    "dominant_k(gen_gen1(2**20), 3)"
   ]
  },
  {
   "cell_type": "markdown",
   "metadata": {},
   "source": [
    "Получили корректный результат"
   ]
  },
  {
   "cell_type": "code",
   "execution_count": null,
   "metadata": {
    "collapsed": true
   },
   "outputs": [],
   "source": []
  }
 ],
 "metadata": {
  "kernelspec": {
   "display_name": "Python 3",
   "language": "python",
   "name": "python3"
  },
  "language_info": {
   "codemirror_mode": {
    "name": "ipython",
    "version": 3
   },
   "file_extension": ".py",
   "mimetype": "text/x-python",
   "name": "python",
   "nbconvert_exporter": "python",
   "pygments_lexer": "ipython3",
   "version": "3.4.3"
  }
 },
 "nbformat": 4,
 "nbformat_minor": 0
}
